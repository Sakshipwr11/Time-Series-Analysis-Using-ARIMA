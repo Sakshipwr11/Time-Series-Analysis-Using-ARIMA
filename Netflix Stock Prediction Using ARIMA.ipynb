{
 "cells": [
  {
   "cell_type": "markdown",
   "id": "48a201ae",
   "metadata": {},
   "source": [
    "# Time Series Analysis with ARIMA\n",
    "\n",
    "    Predicting netflix stock price for the next 24 months using ARIMA"
   ]
  },
  {
   "cell_type": "markdown",
   "id": "672b08ba",
   "metadata": {},
   "source": [
    "## Import library"
   ]
  },
  {
   "cell_type": "code",
   "execution_count": 1,
   "id": "b8d2733c",
   "metadata": {},
   "outputs": [],
   "source": [
    "import pandas as pd\n",
    "import numpy as np\n",
    "import matplotlib.pyplot as mp\n",
    "import warnings\n",
    "warnings.filterwarnings(\"ignore\")"
   ]
  },
  {
   "cell_type": "markdown",
   "id": "f38617d3",
   "metadata": {},
   "source": [
    "## Reading data into dataframe \n",
    "        Data is taken from www.kaggle.com"
   ]
  },
  {
   "cell_type": "code",
   "execution_count": 40,
   "id": "d980e79e",
   "metadata": {},
   "outputs": [
    {
     "name": "stdout",
     "output_type": "stream",
     "text": [
      "         Date      Open      High       Low     Close  Adj Close     Volume\n",
      "0  2002-05-23  1.156429  1.242857  1.145714  1.196429   1.196429  104790000\n",
      "1  2002-05-24  1.214286  1.225000  1.197143  1.210000   1.210000   11104800\n",
      "2  2002-05-28  1.213571  1.232143  1.157143  1.157143   1.157143    6609400\n",
      "3  2002-05-29  1.164286  1.164286  1.085714  1.103571   1.103571    6757800\n",
      "4  2002-05-30  1.107857  1.107857  1.071429  1.071429   1.071429   10154200\n"
     ]
    }
   ],
   "source": [
    "data=pd.read_csv('NFLX.csv')\n",
    "print(data.head())"
   ]
  },
  {
   "cell_type": "code",
   "execution_count": 41,
   "id": "9f55040c",
   "metadata": {},
   "outputs": [
    {
     "data": {
      "text/html": [
       "<div>\n",
       "<style scoped>\n",
       "    .dataframe tbody tr th:only-of-type {\n",
       "        vertical-align: middle;\n",
       "    }\n",
       "\n",
       "    .dataframe tbody tr th {\n",
       "        vertical-align: top;\n",
       "    }\n",
       "\n",
       "    .dataframe thead th {\n",
       "        text-align: right;\n",
       "    }\n",
       "</style>\n",
       "<table border=\"1\" class=\"dataframe\">\n",
       "  <thead>\n",
       "    <tr style=\"text-align: right;\">\n",
       "      <th></th>\n",
       "      <th>Open</th>\n",
       "      <th>High</th>\n",
       "      <th>Low</th>\n",
       "      <th>Close</th>\n",
       "      <th>Adj Close</th>\n",
       "      <th>Volume</th>\n",
       "    </tr>\n",
       "  </thead>\n",
       "  <tbody>\n",
       "    <tr>\n",
       "      <th>count</th>\n",
       "      <td>5044.000000</td>\n",
       "      <td>5044.000000</td>\n",
       "      <td>5044.000000</td>\n",
       "      <td>5044.000000</td>\n",
       "      <td>5044.000000</td>\n",
       "      <td>5.044000e+03</td>\n",
       "    </tr>\n",
       "    <tr>\n",
       "      <th>mean</th>\n",
       "      <td>116.467981</td>\n",
       "      <td>118.237392</td>\n",
       "      <td>114.578719</td>\n",
       "      <td>116.456338</td>\n",
       "      <td>116.456338</td>\n",
       "      <td>1.653068e+07</td>\n",
       "    </tr>\n",
       "    <tr>\n",
       "      <th>std</th>\n",
       "      <td>168.740876</td>\n",
       "      <td>171.140864</td>\n",
       "      <td>166.119837</td>\n",
       "      <td>168.668232</td>\n",
       "      <td>168.668232</td>\n",
       "      <td>1.924487e+07</td>\n",
       "    </tr>\n",
       "    <tr>\n",
       "      <th>min</th>\n",
       "      <td>0.377857</td>\n",
       "      <td>0.410714</td>\n",
       "      <td>0.346429</td>\n",
       "      <td>0.372857</td>\n",
       "      <td>0.372857</td>\n",
       "      <td>2.856000e+05</td>\n",
       "    </tr>\n",
       "    <tr>\n",
       "      <th>25%</th>\n",
       "      <td>3.955357</td>\n",
       "      <td>4.031072</td>\n",
       "      <td>3.885357</td>\n",
       "      <td>3.958571</td>\n",
       "      <td>3.958571</td>\n",
       "      <td>6.168225e+06</td>\n",
       "    </tr>\n",
       "    <tr>\n",
       "      <th>50%</th>\n",
       "      <td>25.819285</td>\n",
       "      <td>26.342143</td>\n",
       "      <td>25.455000</td>\n",
       "      <td>25.802856</td>\n",
       "      <td>25.802856</td>\n",
       "      <td>1.059135e+07</td>\n",
       "    </tr>\n",
       "    <tr>\n",
       "      <th>75%</th>\n",
       "      <td>155.762497</td>\n",
       "      <td>157.654998</td>\n",
       "      <td>153.944996</td>\n",
       "      <td>155.869999</td>\n",
       "      <td>155.869999</td>\n",
       "      <td>1.986552e+07</td>\n",
       "    </tr>\n",
       "    <tr>\n",
       "      <th>max</th>\n",
       "      <td>692.349976</td>\n",
       "      <td>700.989990</td>\n",
       "      <td>686.090027</td>\n",
       "      <td>691.690002</td>\n",
       "      <td>691.690002</td>\n",
       "      <td>3.234140e+08</td>\n",
       "    </tr>\n",
       "  </tbody>\n",
       "</table>\n",
       "</div>"
      ],
      "text/plain": [
       "              Open         High          Low        Close    Adj Close  \\\n",
       "count  5044.000000  5044.000000  5044.000000  5044.000000  5044.000000   \n",
       "mean    116.467981   118.237392   114.578719   116.456338   116.456338   \n",
       "std     168.740876   171.140864   166.119837   168.668232   168.668232   \n",
       "min       0.377857     0.410714     0.346429     0.372857     0.372857   \n",
       "25%       3.955357     4.031072     3.885357     3.958571     3.958571   \n",
       "50%      25.819285    26.342143    25.455000    25.802856    25.802856   \n",
       "75%     155.762497   157.654998   153.944996   155.869999   155.869999   \n",
       "max     692.349976   700.989990   686.090027   691.690002   691.690002   \n",
       "\n",
       "             Volume  \n",
       "count  5.044000e+03  \n",
       "mean   1.653068e+07  \n",
       "std    1.924487e+07  \n",
       "min    2.856000e+05  \n",
       "25%    6.168225e+06  \n",
       "50%    1.059135e+07  \n",
       "75%    1.986552e+07  \n",
       "max    3.234140e+08  "
      ]
     },
     "execution_count": 41,
     "metadata": {},
     "output_type": "execute_result"
    }
   ],
   "source": [
    "data.describe()"
   ]
  },
  {
   "cell_type": "code",
   "execution_count": 42,
   "id": "2f637567",
   "metadata": {},
   "outputs": [
    {
     "data": {
      "text/plain": [
       "Date         0\n",
       "Open         0\n",
       "High         0\n",
       "Low          0\n",
       "Close        0\n",
       "Adj Close    0\n",
       "Volume       0\n",
       "dtype: int64"
      ]
     },
     "execution_count": 42,
     "metadata": {},
     "output_type": "execute_result"
    }
   ],
   "source": [
    "#checking for null values \n",
    "data.isnull().sum()"
   ]
  },
  {
   "cell_type": "code",
   "execution_count": 43,
   "id": "d5e6e7a5",
   "metadata": {},
   "outputs": [
    {
     "data": {
      "text/html": [
       "<div>\n",
       "<style scoped>\n",
       "    .dataframe tbody tr th:only-of-type {\n",
       "        vertical-align: middle;\n",
       "    }\n",
       "\n",
       "    .dataframe tbody tr th {\n",
       "        vertical-align: top;\n",
       "    }\n",
       "\n",
       "    .dataframe thead th {\n",
       "        text-align: right;\n",
       "    }\n",
       "</style>\n",
       "<table border=\"1\" class=\"dataframe\">\n",
       "  <thead>\n",
       "    <tr style=\"text-align: right;\">\n",
       "      <th></th>\n",
       "      <th>Date</th>\n",
       "      <th>Open</th>\n",
       "      <th>High</th>\n",
       "      <th>Low</th>\n",
       "      <th>Close</th>\n",
       "      <th>Adj Close</th>\n",
       "      <th>Volume</th>\n",
       "    </tr>\n",
       "  </thead>\n",
       "  <tbody>\n",
       "    <tr>\n",
       "      <th>5039</th>\n",
       "      <td>2022-05-27</td>\n",
       "      <td>193.190002</td>\n",
       "      <td>195.250000</td>\n",
       "      <td>190.369995</td>\n",
       "      <td>195.190002</td>\n",
       "      <td>195.190002</td>\n",
       "      <td>8586000</td>\n",
       "    </tr>\n",
       "    <tr>\n",
       "      <th>5040</th>\n",
       "      <td>2022-05-31</td>\n",
       "      <td>196.179993</td>\n",
       "      <td>199.949997</td>\n",
       "      <td>190.800003</td>\n",
       "      <td>197.440002</td>\n",
       "      <td>197.440002</td>\n",
       "      <td>11398500</td>\n",
       "    </tr>\n",
       "    <tr>\n",
       "      <th>5041</th>\n",
       "      <td>2022-06-01</td>\n",
       "      <td>198.699997</td>\n",
       "      <td>202.740005</td>\n",
       "      <td>191.660004</td>\n",
       "      <td>192.910004</td>\n",
       "      <td>192.910004</td>\n",
       "      <td>8416200</td>\n",
       "    </tr>\n",
       "    <tr>\n",
       "      <th>5042</th>\n",
       "      <td>2022-06-02</td>\n",
       "      <td>192.020004</td>\n",
       "      <td>205.470001</td>\n",
       "      <td>191.720001</td>\n",
       "      <td>205.089996</td>\n",
       "      <td>205.089996</td>\n",
       "      <td>9623100</td>\n",
       "    </tr>\n",
       "    <tr>\n",
       "      <th>5043</th>\n",
       "      <td>2022-06-03</td>\n",
       "      <td>200.139999</td>\n",
       "      <td>202.949997</td>\n",
       "      <td>198.050003</td>\n",
       "      <td>198.979996</td>\n",
       "      <td>198.979996</td>\n",
       "      <td>7181700</td>\n",
       "    </tr>\n",
       "  </tbody>\n",
       "</table>\n",
       "</div>"
      ],
      "text/plain": [
       "            Date        Open        High         Low       Close   Adj Close  \\\n",
       "5039  2022-05-27  193.190002  195.250000  190.369995  195.190002  195.190002   \n",
       "5040  2022-05-31  196.179993  199.949997  190.800003  197.440002  197.440002   \n",
       "5041  2022-06-01  198.699997  202.740005  191.660004  192.910004  192.910004   \n",
       "5042  2022-06-02  192.020004  205.470001  191.720001  205.089996  205.089996   \n",
       "5043  2022-06-03  200.139999  202.949997  198.050003  198.979996  198.979996   \n",
       "\n",
       "        Volume  \n",
       "5039   8586000  \n",
       "5040  11398500  \n",
       "5041   8416200  \n",
       "5042   9623100  \n",
       "5043   7181700  "
      ]
     },
     "execution_count": 43,
     "metadata": {},
     "output_type": "execute_result"
    }
   ],
   "source": [
    "data.tail()"
   ]
  },
  {
   "cell_type": "code",
   "execution_count": 50,
   "id": "099bd5a4",
   "metadata": {},
   "outputs": [],
   "source": [
    "#taking only neccessary columns \n",
    "dataset=data[['Date','Close']]"
   ]
  },
  {
   "cell_type": "code",
   "execution_count": 51,
   "id": "20381724",
   "metadata": {},
   "outputs": [
    {
     "data": {
      "text/html": [
       "<div>\n",
       "<style scoped>\n",
       "    .dataframe tbody tr th:only-of-type {\n",
       "        vertical-align: middle;\n",
       "    }\n",
       "\n",
       "    .dataframe tbody tr th {\n",
       "        vertical-align: top;\n",
       "    }\n",
       "\n",
       "    .dataframe thead th {\n",
       "        text-align: right;\n",
       "    }\n",
       "</style>\n",
       "<table border=\"1\" class=\"dataframe\">\n",
       "  <thead>\n",
       "    <tr style=\"text-align: right;\">\n",
       "      <th></th>\n",
       "      <th>Close</th>\n",
       "    </tr>\n",
       "  </thead>\n",
       "  <tbody>\n",
       "    <tr>\n",
       "      <th>count</th>\n",
       "      <td>5044.000000</td>\n",
       "    </tr>\n",
       "    <tr>\n",
       "      <th>mean</th>\n",
       "      <td>116.456338</td>\n",
       "    </tr>\n",
       "    <tr>\n",
       "      <th>std</th>\n",
       "      <td>168.668232</td>\n",
       "    </tr>\n",
       "    <tr>\n",
       "      <th>min</th>\n",
       "      <td>0.372857</td>\n",
       "    </tr>\n",
       "    <tr>\n",
       "      <th>25%</th>\n",
       "      <td>3.958571</td>\n",
       "    </tr>\n",
       "    <tr>\n",
       "      <th>50%</th>\n",
       "      <td>25.802856</td>\n",
       "    </tr>\n",
       "    <tr>\n",
       "      <th>75%</th>\n",
       "      <td>155.869999</td>\n",
       "    </tr>\n",
       "    <tr>\n",
       "      <th>max</th>\n",
       "      <td>691.690002</td>\n",
       "    </tr>\n",
       "  </tbody>\n",
       "</table>\n",
       "</div>"
      ],
      "text/plain": [
       "             Close\n",
       "count  5044.000000\n",
       "mean    116.456338\n",
       "std     168.668232\n",
       "min       0.372857\n",
       "25%       3.958571\n",
       "50%      25.802856\n",
       "75%     155.869999\n",
       "max     691.690002"
      ]
     },
     "execution_count": 51,
     "metadata": {},
     "output_type": "execute_result"
    }
   ],
   "source": [
    "dataset.describe()"
   ]
  },
  {
   "cell_type": "code",
   "execution_count": 52,
   "id": "83efc9e2",
   "metadata": {},
   "outputs": [
    {
     "data": {
      "text/plain": [
       "Date      object\n",
       "Close    float64\n",
       "dtype: object"
      ]
     },
     "execution_count": 52,
     "metadata": {},
     "output_type": "execute_result"
    }
   ],
   "source": [
    "dataset.dtypes"
   ]
  },
  {
   "cell_type": "code",
   "execution_count": 53,
   "id": "f6ffd0fd",
   "metadata": {},
   "outputs": [
    {
     "data": {
      "text/html": [
       "<div>\n",
       "<style scoped>\n",
       "    .dataframe tbody tr th:only-of-type {\n",
       "        vertical-align: middle;\n",
       "    }\n",
       "\n",
       "    .dataframe tbody tr th {\n",
       "        vertical-align: top;\n",
       "    }\n",
       "\n",
       "    .dataframe thead th {\n",
       "        text-align: right;\n",
       "    }\n",
       "</style>\n",
       "<table border=\"1\" class=\"dataframe\">\n",
       "  <thead>\n",
       "    <tr style=\"text-align: right;\">\n",
       "      <th></th>\n",
       "      <th>Date</th>\n",
       "      <th>Close</th>\n",
       "    </tr>\n",
       "  </thead>\n",
       "  <tbody>\n",
       "    <tr>\n",
       "      <th>5039</th>\n",
       "      <td>2022-05-27</td>\n",
       "      <td>195.190002</td>\n",
       "    </tr>\n",
       "    <tr>\n",
       "      <th>5040</th>\n",
       "      <td>2022-05-31</td>\n",
       "      <td>197.440002</td>\n",
       "    </tr>\n",
       "    <tr>\n",
       "      <th>5041</th>\n",
       "      <td>2022-06-01</td>\n",
       "      <td>192.910004</td>\n",
       "    </tr>\n",
       "    <tr>\n",
       "      <th>5042</th>\n",
       "      <td>2022-06-02</td>\n",
       "      <td>205.089996</td>\n",
       "    </tr>\n",
       "    <tr>\n",
       "      <th>5043</th>\n",
       "      <td>2022-06-03</td>\n",
       "      <td>198.979996</td>\n",
       "    </tr>\n",
       "  </tbody>\n",
       "</table>\n",
       "</div>"
      ],
      "text/plain": [
       "            Date       Close\n",
       "5039  2022-05-27  195.190002\n",
       "5040  2022-05-31  197.440002\n",
       "5041  2022-06-01  192.910004\n",
       "5042  2022-06-02  205.089996\n",
       "5043  2022-06-03  198.979996"
      ]
     },
     "execution_count": 53,
     "metadata": {},
     "output_type": "execute_result"
    }
   ],
   "source": [
    "dataset.tail()"
   ]
  },
  {
   "cell_type": "code",
   "execution_count": 54,
   "id": "89710859",
   "metadata": {},
   "outputs": [
    {
     "name": "stdout",
     "output_type": "stream",
     "text": [
      "      Date       Close\n",
      "0  2017-07  169.446500\n",
      "1  2017-08  172.389564\n",
      "2  2017-09  181.666501\n",
      "3  2017-10  194.277727\n",
      "4  2017-11  195.223333\n"
     ]
    }
   ],
   "source": [
    "#converting date column in datetime \n",
    "dataset['Date']= pd.to_datetime(dataset['Date']).dt.to_period('M')\n",
    "dataset=(dataset.groupby(['Date']).mean()).reset_index()\n",
    "# taking data for last 4 years\n",
    "dataset=dataset.loc[dataset['Date']>'2017-06']\n",
    "dataset=dataset.reset_index(drop=True)\n",
    "print(dataset.head())"
   ]
  },
  {
   "cell_type": "code",
   "execution_count": 55,
   "id": "2d2a93a2",
   "metadata": {},
   "outputs": [
    {
     "data": {
      "text/plain": [
       "60"
      ]
     },
     "execution_count": 55,
     "metadata": {},
     "output_type": "execute_result"
    }
   ],
   "source": [
    "len(dataset)"
   ]
  },
  {
   "cell_type": "code",
   "execution_count": 56,
   "id": "d117f6e9",
   "metadata": {},
   "outputs": [
    {
     "data": {
      "text/html": [
       "<div>\n",
       "<style scoped>\n",
       "    .dataframe tbody tr th:only-of-type {\n",
       "        vertical-align: middle;\n",
       "    }\n",
       "\n",
       "    .dataframe tbody tr th {\n",
       "        vertical-align: top;\n",
       "    }\n",
       "\n",
       "    .dataframe thead th {\n",
       "        text-align: right;\n",
       "    }\n",
       "</style>\n",
       "<table border=\"1\" class=\"dataframe\">\n",
       "  <thead>\n",
       "    <tr style=\"text-align: right;\">\n",
       "      <th></th>\n",
       "      <th>Date</th>\n",
       "      <th>Close</th>\n",
       "    </tr>\n",
       "  </thead>\n",
       "  <tbody>\n",
       "    <tr>\n",
       "      <th>55</th>\n",
       "      <td>2022-02</td>\n",
       "      <td>400.986317</td>\n",
       "    </tr>\n",
       "    <tr>\n",
       "      <th>56</th>\n",
       "      <td>2022-03</td>\n",
       "      <td>366.791741</td>\n",
       "    </tr>\n",
       "    <tr>\n",
       "      <th>57</th>\n",
       "      <td>2022-04</td>\n",
       "      <td>297.414499</td>\n",
       "    </tr>\n",
       "    <tr>\n",
       "      <th>58</th>\n",
       "      <td>2022-05</td>\n",
       "      <td>186.449524</td>\n",
       "    </tr>\n",
       "    <tr>\n",
       "      <th>59</th>\n",
       "      <td>2022-06</td>\n",
       "      <td>198.993332</td>\n",
       "    </tr>\n",
       "  </tbody>\n",
       "</table>\n",
       "</div>"
      ],
      "text/plain": [
       "       Date       Close\n",
       "55  2022-02  400.986317\n",
       "56  2022-03  366.791741\n",
       "57  2022-04  297.414499\n",
       "58  2022-05  186.449524\n",
       "59  2022-06  198.993332"
      ]
     },
     "execution_count": 56,
     "metadata": {},
     "output_type": "execute_result"
    }
   ],
   "source": [
    "dataset.tail()"
   ]
  },
  {
   "cell_type": "code",
   "execution_count": 57,
   "id": "f4dbec73",
   "metadata": {},
   "outputs": [
    {
     "data": {
      "image/png": "[encoded data removed]",
      "text/plain": [
       "<Figure size 720x504 with 1 Axes>"
      ]
     },
     "metadata": {
      "needs_background": "light"
     },
     "output_type": "display_data"
    }
   ],
   "source": [
    "#show box plot for closing price to check for outlier\n",
    "fig = mp.figure(figsize =(10, 7)) #defining figure size\n",
    "mp.boxplot(dataset['Close'])\n",
    "mp.show()"
   ]
  },
  {
   "cell_type": "code",
   "execution_count": 58,
   "id": "4786bb48",
   "metadata": {},
   "outputs": [
    {
     "data": {
      "text/plain": [
       "<AxesSubplot:xlabel='Date'>"
      ]
     },
     "execution_count": 58,
     "metadata": {},
     "output_type": "execute_result"
    },
    {
     "data": {
      "image/png": "[encoded data removed]",
      "text/plain": [
       "<Figure size 432x288 with 1 Axes>"
      ]
     },
     "metadata": {
      "needs_background": "light"
     },
     "output_type": "display_data"
    }
   ],
   "source": [
    "dataset.plot( x='Date',y = 'Close')"
   ]
  },
  {
   "cell_type": "markdown",
   "id": "401fb507",
   "metadata": {},
   "source": [
    "# ARIMA"
   ]
  },
  {
   "cell_type": "markdown",
   "id": "bc60cf87",
   "metadata": {},
   "source": [
    "## Using ARIMA to forecast for netflix stock prices for the next 24 months\n",
    "\n",
    "ARIMA - AutoRegressive Integrated Moving Average, An ARIMA model is a class of statistical models for analyzing and forecasting time series data based on past values\n",
    "\n",
    "A ARIMA model is classified as an \"ARIMA(p,d,q)\" model, where:\n",
    "\n",
    "AR(p) is the number of autoregressive terms,\n",
    "I(d) is the number of nonseasonal differences needed for stationarity, and\n",
    "MA(d) is the number of lagged forecast errors in the prediction equation."
   ]
  },
  {
   "cell_type": "markdown",
   "id": "9bbb9002",
   "metadata": {},
   "source": [
    "### Check for stationarity of time series\n",
    "\n",
    "Stationary time series is when the mean and variance are constant over time. It is easier to predict when the series is    stationary.\n",
    "\n",
    "Using ADF test to check stationarity of time series "
   ]
  },
  {
   "cell_type": "code",
   "execution_count": 59,
   "id": "756de005",
   "metadata": {},
   "outputs": [
    {
     "name": "stdout",
     "output_type": "stream",
     "text": [
      "ADF Statistic: -2.095756\n",
      "p-value: 0.246224\n",
      "Critical Values:\n",
      "\t1%: -3.548\n",
      "\t5%: -2.913\n",
      "\t10%: -2.594\n"
     ]
    }
   ],
   "source": [
    "from statsmodels.tsa.stattools import adfuller\n",
    "result = adfuller(dataset['Close'])\n",
    "print('ADF Statistic: %f' % result[0])\n",
    "print('p-value: %f' % result[1])\n",
    "print('Critical Values:')\n",
    "for key, value in result[4].items():\n",
    "    print('\\t%s: %.3f' % (key, value))"
   ]
  },
  {
   "cell_type": "code",
   "execution_count": 60,
   "id": "cca4fde8",
   "metadata": {},
   "outputs": [
    {
     "data": {
      "text/plain": [
       "<AxesSubplot:xlabel='Date'>"
      ]
     },
     "execution_count": 60,
     "metadata": {},
     "output_type": "execute_result"
    },
    {
     "data": {
      "image/png": "[encoded data removed]",
      "text/plain": [
       "<Figure size 432x288 with 1 Axes>"
      ]
     },
     "metadata": {
      "needs_background": "light"
     },
     "output_type": "display_data"
    }
   ],
   "source": [
    "dataset.plot( x='Date',y = 'Close')"
   ]
  },
  {
   "cell_type": "code",
   "execution_count": 61,
   "id": "24fa40f1",
   "metadata": {},
   "outputs": [
    {
     "data": {
      "text/html": [
       "<div>\n",
       "<style scoped>\n",
       "    .dataframe tbody tr th:only-of-type {\n",
       "        vertical-align: middle;\n",
       "    }\n",
       "\n",
       "    .dataframe tbody tr th {\n",
       "        vertical-align: top;\n",
       "    }\n",
       "\n",
       "    .dataframe thead th {\n",
       "        text-align: right;\n",
       "    }\n",
       "</style>\n",
       "<table border=\"1\" class=\"dataframe\">\n",
       "  <thead>\n",
       "    <tr style=\"text-align: right;\">\n",
       "      <th></th>\n",
       "      <th>Date</th>\n",
       "      <th>Close</th>\n",
       "    </tr>\n",
       "  </thead>\n",
       "  <tbody>\n",
       "    <tr>\n",
       "      <th>0</th>\n",
       "      <td>2017-07</td>\n",
       "      <td>169.446500</td>\n",
       "    </tr>\n",
       "    <tr>\n",
       "      <th>1</th>\n",
       "      <td>2017-08</td>\n",
       "      <td>172.389564</td>\n",
       "    </tr>\n",
       "  </tbody>\n",
       "</table>\n",
       "</div>"
      ],
      "text/plain": [
       "      Date       Close\n",
       "0  2017-07  169.446500\n",
       "1  2017-08  172.389564"
      ]
     },
     "execution_count": 61,
     "metadata": {},
     "output_type": "execute_result"
    }
   ],
   "source": [
    "dataset.head(2)"
   ]
  },
  {
   "cell_type": "markdown",
   "id": "24add4a2",
   "metadata": {},
   "source": [
    "#### Since the p value >0.05 (critical value). We will try 1st order of differencing "
   ]
  },
  {
   "cell_type": "code",
   "execution_count": 62,
   "id": "2dc6cab8",
   "metadata": {},
   "outputs": [
    {
     "name": "stdout",
     "output_type": "stream",
     "text": [
      "ADF Statistic: -4.693772\n",
      "p-value: 0.000086\n",
      "Critical Values:\n",
      "\t1%: -3.548\n",
      "\t5%: -2.913\n",
      "\t10%: -2.594\n"
     ]
    },
    {
     "data": {
      "image/png": "[encoded data removed]",
      "text/plain": [
       "<Figure size 432x288 with 1 Axes>"
      ]
     },
     "metadata": {
      "needs_background": "light"
     },
     "output_type": "display_data"
    }
   ],
   "source": [
    "dataset_1stdiff=dataset.diff().dropna()\n",
    "dataset_1stdiff.plot( x='Date',y = 'Close')\n",
    "result = adfuller(dataset_1stdiff['Close'])\n",
    "print('ADF Statistic: %f' % result[0])\n",
    "print('p-value: %f' % result[1])\n",
    "print('Critical Values:')\n",
    "for key, value in result[4].items():\n",
    "    print('\\t%s: %.3f' % (key, value))"
   ]
  },
  {
   "cell_type": "markdown",
   "id": "7dd9bb86",
   "metadata": {},
   "source": [
    "For 1st order of differencing the p value <0.05. Hence we will choose I(d)=1"
   ]
  },
  {
   "cell_type": "markdown",
   "id": "0e215e9d",
   "metadata": {},
   "source": [
    "#### Determing the p and q values using acf and pacf plot"
   ]
  },
  {
   "cell_type": "code",
   "execution_count": 92,
   "id": "f5b944d3",
   "metadata": {},
   "outputs": [],
   "source": [
    "from statsmodels.graphics.tsaplots import plot_acf\n",
    "from statsmodels.graphics.tsaplots import plot_pacf"
   ]
  },
  {
   "cell_type": "code",
   "execution_count": 93,
   "id": "dfacb4f2",
   "metadata": {},
   "outputs": [
    {
     "data": {
      "image/png": "[encoded data removed]",
      "text/plain": [
       "<Figure size 432x288 with 1 Axes>"
      ]
     },
     "metadata": {
      "needs_background": "light"
     },
     "output_type": "display_data"
    },
    {
     "data": {
      "image/png": "[encoded data removed]",
      "text/plain": [
       "<Figure size 432x288 with 1 Axes>"
      ]
     },
     "metadata": {
      "needs_background": "light"
     },
     "output_type": "display_data"
    }
   ],
   "source": [
    "plot_acf(dataset['Close'],alpha=0.05)\n",
    "mp.show()\n",
    "plot_pacf(dataset['Close'],alpha=0.05)\n",
    "mp.show()"
   ]
  },
  {
   "cell_type": "code",
   "execution_count": 94,
   "id": "dec9a432",
   "metadata": {},
   "outputs": [
    {
     "data": {
      "image/png": "[encoded data removed]",
      "text/plain": [
       "<Figure size 432x288 with 1 Axes>"
      ]
     },
     "metadata": {
      "needs_background": "light"
     },
     "output_type": "display_data"
    },
    {
     "data": {
      "image/png": "[encoded data removed]",
      "text/plain": [
       "<Figure size 432x288 with 1 Axes>"
      ]
     },
     "metadata": {
      "needs_background": "light"
     },
     "output_type": "display_data"
    }
   ],
   "source": [
    "plot_acf(dataset_1stdiff['Close'],alpha=0.05)\n",
    "mp.show()\n",
    "plot_pacf(dataset_1stdiff['Close'],alpha=0.05)\n",
    "mp.show()"
   ]
  },
  {
   "cell_type": "markdown",
   "id": "2ec7cc65",
   "metadata": {},
   "source": [
    "We can select the order p for AR(p) model based on significant spikes from the PACF plot. We can see significant lag at 1, So we can choose p=1\n",
    "\n",
    "We can select the order q for MA(q) model based on significant spikes from the ACF plot. We can see significant lag at 1, So we can choose p=1"
   ]
  },
  {
   "cell_type": "code",
   "execution_count": 68,
   "id": "c21a9119",
   "metadata": {},
   "outputs": [],
   "source": [
    "from statsmodels.tsa.arima.model import ARIMA\n",
    "#model building \n",
    "model=ARIMA(dataset['Close'].values,order=(1,1,1))\n",
    "model_fit=model.fit()\n",
    "print(model_fit.summary())\n"
   ]
  },
  {
   "cell_type": "code",
   "execution_count": 71,
   "id": "e96b9873",
   "metadata": {},
   "outputs": [
    {
     "data": {
      "text/plain": [
       "[<matplotlib.lines.Line2D at 0x24a26dd3dc0>]"
      ]
     },
     "execution_count": 71,
     "metadata": {},
     "output_type": "execute_result"
    },
    {
     "data": {
      "image/png": "[encoded data removed]",
      "text/plain": [
       "<Figure size 432x288 with 1 Axes>"
      ]
     },
     "metadata": {
      "needs_background": "light"
     },
     "output_type": "display_data"
    }
   ],
   "source": [
    "mp.plot(dataset['Close'], label='actuals')\n",
    "mp.plot(model_fit.fittedvalues,color='red')"
   ]
  },
  {
   "cell_type": "code",
   "execution_count": 72,
   "id": "54110e11",
   "metadata": {},
   "outputs": [],
   "source": [
    "predictions=pd.Series(model_fit.fittedvalues)\n"
   ]
  },
  {
   "cell_type": "markdown",
   "id": "34b01dc0",
   "metadata": {},
   "source": [
    "#### Error Calculation"
   ]
  },
  {
   "cell_type": "code",
   "execution_count": 73,
   "id": "52f9f1e4",
   "metadata": {},
   "outputs": [],
   "source": [
    "actuals=dataset['Close']"
   ]
  },
  {
   "cell_type": "code",
   "execution_count": 75,
   "id": "84e2da1f",
   "metadata": {},
   "outputs": [
    {
     "data": {
      "text/plain": [
       "9.123395635252168"
      ]
     },
     "execution_count": 75,
     "metadata": {},
     "output_type": "execute_result"
    }
   ],
   "source": [
    "error=(np.mean(np.abs(predictions - actuals)/np.abs(actuals)))*100\n",
    "error"
   ]
  },
  {
   "cell_type": "markdown",
   "id": "1d945981",
   "metadata": {},
   "source": [
    "#### Predicting next 24 months"
   ]
  },
  {
   "cell_type": "code",
   "execution_count": 76,
   "id": "b8707bf1",
   "metadata": {},
   "outputs": [
    {
     "name": "stdout",
     "output_type": "stream",
     "text": [
      "[201.19762073 202.2503723  202.75315846 202.99328531 203.10796807\n",
      " 203.16273969 203.1888982  203.2013913  203.20735792 203.21020753\n",
      " 203.21156848 203.21221846 203.21252888 203.21267714 203.21274795\n",
      " 203.21278176 203.21279791 203.21280563 203.21280931 203.21281107\n",
      " 203.21281191 203.21281231 203.2128125  203.21281259]\n"
     ]
    }
   ],
   "source": [
    "forecast=model_fit.predict(len(dataset),len(dataset)+23)\n",
    "print(forecast)"
   ]
  },
  {
   "cell_type": "code",
   "execution_count": 77,
   "id": "02421881",
   "metadata": {},
   "outputs": [
    {
     "data": {
      "text/html": [
       "<div>\n",
       "<style scoped>\n",
       "    .dataframe tbody tr th:only-of-type {\n",
       "        vertical-align: middle;\n",
       "    }\n",
       "\n",
       "    .dataframe tbody tr th {\n",
       "        vertical-align: top;\n",
       "    }\n",
       "\n",
       "    .dataframe thead th {\n",
       "        text-align: right;\n",
       "    }\n",
       "</style>\n",
       "<table border=\"1\" class=\"dataframe\">\n",
       "  <thead>\n",
       "    <tr style=\"text-align: right;\">\n",
       "      <th></th>\n",
       "      <th>Date</th>\n",
       "      <th>Close</th>\n",
       "    </tr>\n",
       "  </thead>\n",
       "  <tbody>\n",
       "    <tr>\n",
       "      <th>55</th>\n",
       "      <td>2022-02</td>\n",
       "      <td>400.986317</td>\n",
       "    </tr>\n",
       "    <tr>\n",
       "      <th>56</th>\n",
       "      <td>2022-03</td>\n",
       "      <td>366.791741</td>\n",
       "    </tr>\n",
       "    <tr>\n",
       "      <th>57</th>\n",
       "      <td>2022-04</td>\n",
       "      <td>297.414499</td>\n",
       "    </tr>\n",
       "    <tr>\n",
       "      <th>58</th>\n",
       "      <td>2022-05</td>\n",
       "      <td>186.449524</td>\n",
       "    </tr>\n",
       "    <tr>\n",
       "      <th>59</th>\n",
       "      <td>2022-06</td>\n",
       "      <td>198.993332</td>\n",
       "    </tr>\n",
       "  </tbody>\n",
       "</table>\n",
       "</div>"
      ],
      "text/plain": [
       "       Date       Close\n",
       "55  2022-02  400.986317\n",
       "56  2022-03  366.791741\n",
       "57  2022-04  297.414499\n",
       "58  2022-05  186.449524\n",
       "59  2022-06  198.993332"
      ]
     },
     "execution_count": 77,
     "metadata": {},
     "output_type": "execute_result"
    }
   ],
   "source": [
    "dataset.tail()"
   ]
  },
  {
   "cell_type": "markdown",
   "id": "8f523171",
   "metadata": {},
   "source": [
    "Joining forecast values with actuals values"
   ]
  },
  {
   "cell_type": "code",
   "execution_count": 80,
   "id": "ea527531",
   "metadata": {},
   "outputs": [],
   "source": [
    "df1 = pd.DataFrame(pd.date_range(start='2022-07', end='2024-06'), columns=['Date'])\n",
    "df1['Date']= pd.to_datetime(df1['Date']).dt.to_period('M')\n",
    "df1=(df1.groupby(['Date']).mean()).reset_index()\n",
    "df1['Close']=pd.DataFrame(forecast)\n",
    "final_dataset=dataset.append(df1).reset_index(drop=True)"
   ]
  },
  {
   "cell_type": "markdown",
   "id": "21d04ffd",
   "metadata": {},
   "source": [
    "# Netfix Stock Forecast for next 24 months"
   ]
  },
  {
   "cell_type": "code",
   "execution_count": 81,
   "id": "1fae99fe",
   "metadata": {},
   "outputs": [
    {
     "data": {
      "text/html": [
       "<div>\n",
       "<style scoped>\n",
       "    .dataframe tbody tr th:only-of-type {\n",
       "        vertical-align: middle;\n",
       "    }\n",
       "\n",
       "    .dataframe tbody tr th {\n",
       "        vertical-align: top;\n",
       "    }\n",
       "\n",
       "    .dataframe thead th {\n",
       "        text-align: right;\n",
       "    }\n",
       "</style>\n",
       "<table border=\"1\" class=\"dataframe\">\n",
       "  <thead>\n",
       "    <tr style=\"text-align: right;\">\n",
       "      <th></th>\n",
       "      <th>Date</th>\n",
       "      <th>Close</th>\n",
       "    </tr>\n",
       "  </thead>\n",
       "  <tbody>\n",
       "    <tr>\n",
       "      <th>0</th>\n",
       "      <td>2017-07</td>\n",
       "      <td>169.446500</td>\n",
       "    </tr>\n",
       "    <tr>\n",
       "      <th>1</th>\n",
       "      <td>2017-08</td>\n",
       "      <td>172.389564</td>\n",
       "    </tr>\n",
       "    <tr>\n",
       "      <th>2</th>\n",
       "      <td>2017-09</td>\n",
       "      <td>181.666501</td>\n",
       "    </tr>\n",
       "    <tr>\n",
       "      <th>3</th>\n",
       "      <td>2017-10</td>\n",
       "      <td>194.277727</td>\n",
       "    </tr>\n",
       "    <tr>\n",
       "      <th>4</th>\n",
       "      <td>2017-11</td>\n",
       "      <td>195.223333</td>\n",
       "    </tr>\n",
       "    <tr>\n",
       "      <th>...</th>\n",
       "      <td>...</td>\n",
       "      <td>...</td>\n",
       "    </tr>\n",
       "    <tr>\n",
       "      <th>79</th>\n",
       "      <td>2024-02</td>\n",
       "      <td>203.212811</td>\n",
       "    </tr>\n",
       "    <tr>\n",
       "      <th>80</th>\n",
       "      <td>2024-03</td>\n",
       "      <td>203.212812</td>\n",
       "    </tr>\n",
       "    <tr>\n",
       "      <th>81</th>\n",
       "      <td>2024-04</td>\n",
       "      <td>203.212812</td>\n",
       "    </tr>\n",
       "    <tr>\n",
       "      <th>82</th>\n",
       "      <td>2024-05</td>\n",
       "      <td>203.212813</td>\n",
       "    </tr>\n",
       "    <tr>\n",
       "      <th>83</th>\n",
       "      <td>2024-06</td>\n",
       "      <td>203.212813</td>\n",
       "    </tr>\n",
       "  </tbody>\n",
       "</table>\n",
       "<p>84 rows × 2 columns</p>\n",
       "</div>"
      ],
      "text/plain": [
       "       Date       Close\n",
       "0   2017-07  169.446500\n",
       "1   2017-08  172.389564\n",
       "2   2017-09  181.666501\n",
       "3   2017-10  194.277727\n",
       "4   2017-11  195.223333\n",
       "..      ...         ...\n",
       "79  2024-02  203.212811\n",
       "80  2024-03  203.212812\n",
       "81  2024-04  203.212812\n",
       "82  2024-05  203.212813\n",
       "83  2024-06  203.212813\n",
       "\n",
       "[84 rows x 2 columns]"
      ]
     },
     "execution_count": 81,
     "metadata": {},
     "output_type": "execute_result"
    }
   ],
   "source": [
    "final_dataset"
   ]
  }
 ],
 "metadata": {
  "kernelspec": {
   "display_name": "Python 3 (ipykernel)",
   "language": "python",
   "name": "python3"
  },
  "language_info": {
   "codemirror_mode": {
    "name": "ipython",
    "version": 3
   },
   "file_extension": ".py",
   "mimetype": "text/x-python",
   "name": "python",
   "nbconvert_exporter": "python",
   "pygments_lexer": "ipython3",
   "version": "3.9.12"
  }
 },
 "nbformat": 4,
 "nbformat_minor": 5
}
